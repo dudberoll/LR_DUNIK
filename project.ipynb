{
 "cells": [
  {
   "cell_type": "code",
   "execution_count": 33,
   "id": "initial_id",
   "metadata": {
    "collapsed": true,
    "ExecuteTime": {
     "end_time": "2023-12-13T22:15:04.823681Z",
     "start_time": "2023-12-13T22:15:04.775338Z"
    }
   },
   "outputs": [],
   "source": [
    "import slae\n",
    "import numpy as np\n",
    "from scipy.sparse.linalg import gmres\n",
    "import scipy.linalg as la"
   ]
  },
  {
   "cell_type": "markdown",
   "source": [
    "Метод Гаусса (Метод единичного деления)\n",
    "info: матрица системы небольшая или умеренного размера."
   ],
   "metadata": {
    "collapsed": false
   },
   "id": "949c0110716c952"
  },
  {
   "cell_type": "code",
   "execution_count": 34,
   "outputs": [
    {
     "name": "stdout",
     "output_type": "stream",
     "text": [
      "[[2.]\n",
      " [1.]\n",
      " [1.]]\n"
     ]
    }
   ],
   "source": [
    "# Введите матрицу при иксах\n",
    "mat1 = np.matrix([[5, 0, 1], [2, 6, -2], [-3, 2, 10]]).astype(float)\n",
    "# Введите матрицу ответов\n",
    "mat2 = np.matrix([[11], [8], [6]]).astype(float)\n",
    "\n",
    "print(slae.gauss(mat1,mat2))\n",
    "#     output:\n",
    "#           [[2.]\n",
    "#            [1.]\n",
    "#            [1.]]\n",
    "\n",
    "# x = la.solve(mat1, mat2)\n",
    "# print('Проверенное решение: ', x)"
   ],
   "metadata": {
    "collapsed": false,
    "ExecuteTime": {
     "end_time": "2023-12-13T22:15:04.931153Z",
     "start_time": "2023-12-13T22:15:04.789093Z"
    }
   },
   "id": "33f22c126d0e3864"
  },
  {
   "cell_type": "markdown",
   "source": [
    "Метод Гаусса (Метод прямоугольника)\n",
    "info: Для решения СЛАУ любого размера."
   ],
   "metadata": {
    "collapsed": false
   },
   "id": "4c46e5fbd190c56b"
  },
  {
   "cell_type": "code",
   "execution_count": 35,
   "outputs": [
    {
     "name": "stdout",
     "output_type": "stream",
     "text": [
      "Финальная матрица:  [[  1.    0.5   2.    8. ]\n",
      " [  0.    1.  -10.  -28. ]\n",
      " [  0.    0.    1.    3. ]] \n",
      "  Ответ: [[1.]\n",
      " [2.]\n",
      " [3.]]\n"
     ]
    }
   ],
   "source": [
    "# Введите матрицу при иксах\n",
    "mat1 = np.matrix([[2, 1, 4], [3, 2, 1], [1, 3, 3]]).astype(float)\n",
    "# Введите матрицу ответов\n",
    "mat2 = np.matrix([[16], [10], [16]]).astype(float)\n",
    "\n",
    "final_matrix, solution = slae.rectangle(mat1, mat2)\n",
    "print('Финальная матрица: ',final_matrix, '\\n ', 'Ответ:' ,solution)\n",
    "#     output:\n",
    "#     Финальная матрица:  [[  1.    0.5   2.    8. ]\n",
    "#  [  0.    1.  -10.  -28. ]\n",
    "#  [  0.    0.    1.    3. ]]\n",
    "#   Ответ: [[1.]\n",
    "#  [2.]\n",
    "#  [3.]]\n",
    "# \n",
    "# x = la.solve(mat1, mat2)\n",
    "# print('Проверенное решение: ', x)"
   ],
   "metadata": {
    "collapsed": false,
    "ExecuteTime": {
     "end_time": "2023-12-13T22:15:04.933929Z",
     "start_time": "2023-12-13T22:15:04.797258Z"
    }
   },
   "id": "2b199d5ff05cbacf"
  },
  {
   "cell_type": "markdown",
   "source": [
    "Выбор ведущего элемента по столбцу\n",
    "info: Обеспечивает более стабильную и надежную работу метода Гаусса при работе с матрицами, имеющими большую разницу в значениях элементов."
   ],
   "metadata": {
    "collapsed": false
   },
   "id": "fcec4ab52bde306e"
  },
  {
   "cell_type": "code",
   "execution_count": 36,
   "outputs": [
    {
     "name": "stdout",
     "output_type": "stream",
     "text": [
      "Ответ: [ 1. -2.  1.]\n"
     ]
    }
   ],
   "source": [
    "# Введите матрицу при иксах\n",
    "A = np.array([[10, 2, 1], [1, 5, 1], [2, 3, 10]], dtype=np.float64)\n",
    "# Введите матрицу ответов\n",
    "b = np.array([[7], [-8], [6]], dtype=np.float64)\n",
    "print('Ответ:',slae.LeadingElement(A, b))\n",
    "#     output:\n",
    "#     Ответ: [ 1. -2.  1.]\n",
    "# \n",
    "# x = la.solve(A, b)\n",
    "# print('Проверенное решение: ', x)"
   ],
   "metadata": {
    "collapsed": false,
    "ExecuteTime": {
     "end_time": "2023-12-13T22:15:04.983476Z",
     "start_time": "2023-12-13T22:15:04.804381Z"
    }
   },
   "id": "15b13dd3d316fd22"
  },
  {
   "cell_type": "markdown",
   "source": [
    "Метод итераций\n",
    "info: Часто используется для больших систем уравнений, особенно тех, где матрица системы разреженная."
   ],
   "metadata": {
    "collapsed": false
   },
   "id": "f6c834561754ddae"
  },
  {
   "cell_type": "code",
   "execution_count": 37,
   "outputs": [
    {
     "name": "stdout",
     "output_type": "stream",
     "text": [
      "Ответ: [[0.999568 0.99946  0.999316]]\n"
     ]
    }
   ],
   "source": [
    "#   Задайте матрицу\n",
    "A = np.matrix([[0,-0.1,-0.1],[-0.2,0,-0.1],[-0.2,-0.2,0]]).astype(float)\n",
    "#   Задайте первое приближение\n",
    "X = np.matrix([[1.2],[1.3],[1.4]])\n",
    "\n",
    "print('Ответ:',slae.simple_iterations(A,X,0.01))\n",
    "# output:\n",
    "# Ответ: [[0.999568 0.99946  0.999316]]\n",
    "# \n",
    "# x = la.solve(A, X)\n",
    "# print('Проверенное решение: ', x)"
   ],
   "metadata": {
    "collapsed": false,
    "ExecuteTime": {
     "end_time": "2023-12-13T22:15:04.986322Z",
     "start_time": "2023-12-13T22:15:04.813781Z"
    }
   },
   "id": "dcb8626c596dd408"
  },
  {
   "cell_type": "markdown",
   "source": [
    "Метод Зейделя\n",
    "info: Этот метод может сходиться быстрее, чем простой метод итераций, особенно для систем уравнений, где матрица близка к симметричной и положительно определенной."
   ],
   "metadata": {
    "collapsed": false
   },
   "id": "c431908b53cc146c"
  },
  {
   "cell_type": "code",
   "execution_count": 38,
   "outputs": [
    {
     "name": "stdout",
     "output_type": "stream",
     "text": [
      "Ответ: [ 1.00000314 -2.00000037  0.99999948]\n"
     ]
    }
   ],
   "source": [
    "#   Задайте матрицу\n",
    "A = np.array([[10, 2, 1], [1, 5, 1], [2, 3, 10]], dtype=np.float64)\n",
    "# Введите матрицу ответов\n",
    "b = np.array([7, -8, 6], dtype=np.float64)\n",
    "\n",
    "print('Ответ:',slae.gauss_seidel(A, b))\n",
    "# output:\n",
    "# Ответ: [ 1.00000314 -2.00000037  0.99999948]\n",
    "# \n",
    "# x = la.solve(A, b)\n",
    "# print('Проверенное решение: ', x)"
   ],
   "metadata": {
    "collapsed": false,
    "ExecuteTime": {
     "end_time": "2023-12-13T22:15:04.991438Z",
     "start_time": "2023-12-13T22:15:04.821722Z"
    }
   },
   "id": "b24d1a0d03b14ef3"
  },
  {
   "cell_type": "markdown",
   "source": [
    "Метод минимальных невязок (GMRES)\n",
    "info: Применяется для решения больших и разреженных систем линейных уравнений"
   ],
   "metadata": {
    "collapsed": false
   },
   "id": "ec6135dc4f4cf8b6"
  },
  {
   "cell_type": "code",
   "execution_count": 39,
   "outputs": [
    {
     "name": "stdout",
     "output_type": "stream",
     "text": [
      "Converged in 4 iterations.\n",
      "Ответ: [5. 5. 5. 5.]\n"
     ]
    }
   ],
   "source": [
    "A = np.array([[4, -1, 0, 0],\n",
    "              [-1, 4, -1, 0],\n",
    "              [0, -1, 4, -1],\n",
    "              [0, 0, -1, 3]], dtype=float)\n",
    "\n",
    "b = np.array([15, 10, 10, 10], dtype=float)\n",
    "\n",
    "# result = library.gmres(A, b)\n",
    "print(\"Ответ:\", slae.gmres(A, b))\n",
    "# output:\n",
    "# Решение: [5. 5. 5. 5.]\n",
    "# \n",
    "# x = gmres(A, b, tol=1e-5)\n",
    "# print('Проверенное решение: ', x)"
   ],
   "metadata": {
    "collapsed": false,
    "ExecuteTime": {
     "end_time": "2023-12-13T22:15:05.004695Z",
     "start_time": "2023-12-13T22:15:04.834838Z"
    }
   },
   "id": "1557ee05ff07d2d"
  },
  {
   "cell_type": "markdown",
   "source": [
    "Метод LU-разложения\n",
    "info: Матрица системы линейных уравнений является плотной или матрица обладает хорошей структурой, и её диагональ выделена, то LU-разложение может быть вычислительно эффективным."
   ],
   "metadata": {
    "collapsed": false
   },
   "id": "1c3257e4e17da6c9"
  },
  {
   "cell_type": "code",
   "execution_count": 40,
   "outputs": [
    {
     "name": "stdout",
     "output_type": "stream",
     "text": [
      "\n",
      "Ответ: [4.65, 4.05, 2.75]\n"
     ]
    }
   ],
   "source": [
    "A = [[2, -1, 1],\n",
    "     [-3, -1, 4],\n",
    "     [-2, 1, 3]]\n",
    "\n",
    "b = [8, -7, 3]\n",
    "\n",
    "L, U = slae.lu_decomposition(A)\n",
    "solution = slae.solve_lu(L, U, b)\n",
    "\n",
    "print(\"\\nОтвет:\", solution)\n",
    "# output:\n",
    "# Ответ: [4.65, 4.05, 2.75]\n",
    "# \n",
    "# x = la.solve(A, b)\n",
    "# print('Проверенное решение: ', x)"
   ],
   "metadata": {
    "collapsed": false,
    "ExecuteTime": {
     "end_time": "2023-12-13T22:15:05.005092Z",
     "start_time": "2023-12-13T22:15:04.845600Z"
    }
   },
   "id": "aeb33c12499a5c00"
  },
  {
   "cell_type": "markdown",
   "source": [
    "Метод Якоби\n",
    "info: Матрица системы уравнений является диагонально доминирующей или строго диагонально доминирующей."
   ],
   "metadata": {
    "collapsed": false
   },
   "id": "684bb651c4e2827c"
  },
  {
   "cell_type": "code",
   "execution_count": 41,
   "outputs": [
    {
     "name": "stdout",
     "output_type": "stream",
     "text": [
      "Ответ: [4.99999975 4.99999956 4.99999953 4.99999962]\n"
     ]
    }
   ],
   "source": [
    "# Пример использования\n",
    "A = np.array([[4, -1, 0, 0],\n",
    "              [-1, 4, -1, 0],\n",
    "              [0, -1, 4, -1],\n",
    "              [0, 0, -1, 3]], dtype=float)\n",
    "\n",
    "b = np.array([15, 10, 10, 10], dtype=float)\n",
    "\n",
    "result = slae.jacobi_method(A, b)\n",
    "print(\"Ответ:\", result)\n",
    "# output:\n",
    "\n",
    "# \n",
    "# x = la.solve(A, b)\n",
    "# print('Проверенное решение: ', x)"
   ],
   "metadata": {
    "collapsed": false,
    "ExecuteTime": {
     "end_time": "2023-12-13T22:15:05.005493Z",
     "start_time": "2023-12-13T22:15:04.857927Z"
    }
   },
   "id": "c444c34eb6df97f6"
  },
  {
   "cell_type": "code",
   "execution_count": 41,
   "outputs": [],
   "source": [],
   "metadata": {
    "collapsed": false,
    "ExecuteTime": {
     "end_time": "2023-12-13T22:15:05.005658Z",
     "start_time": "2023-12-13T22:15:04.863525Z"
    }
   },
   "id": "24170fc0df121f06"
  }
 ],
 "metadata": {
  "kernelspec": {
   "display_name": "Python 3",
   "language": "python",
   "name": "python3"
  },
  "language_info": {
   "codemirror_mode": {
    "name": "ipython",
    "version": 2
   },
   "file_extension": ".py",
   "mimetype": "text/x-python",
   "name": "python",
   "nbconvert_exporter": "python",
   "pygments_lexer": "ipython2",
   "version": "2.7.6"
  }
 },
 "nbformat": 4,
 "nbformat_minor": 5
}
